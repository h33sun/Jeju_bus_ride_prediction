{
 "cells": [
  {
   "cell_type": "markdown",
   "metadata": {},
   "source": [
    "### 최적의 정규화 가중치 찾아내기\n",
    "- model : 정류장 1개당 model로, ols를 저장한 model과 동일하다.\n",
    "- 정류장 1000개 모델별 r_squared, r_squared_adj 를 구하고, 평균값이 가장 높게 하는 가중치를 선택한다.\n",
    "- 이 방식은 우리가 최종 r_squared를 구하는 것과는 약간 다르지만, 최적의 가중치를 얻는데 인사이트를 얻기위해 진행한다. "
   ]
  },
  {
   "cell_type": "code",
   "execution_count": 29,
   "metadata": {},
   "outputs": [
    {
     "data": {
      "text/plain": [
       "1000"
      ]
     },
     "execution_count": 29,
     "metadata": {},
     "output_type": "execute_result"
    }
   ],
   "source": [
    "len(models)"
   ]
  },
  {
   "cell_type": "code",
   "execution_count": 30,
   "metadata": {},
   "outputs": [
    {
     "data": {
      "text/html": [
       "<div>\n",
       "<style scoped>\n",
       "    .dataframe tbody tr th:only-of-type {\n",
       "        vertical-align: middle;\n",
       "    }\n",
       "\n",
       "    .dataframe tbody tr th {\n",
       "        vertical-align: top;\n",
       "    }\n",
       "\n",
       "    .dataframe thead th {\n",
       "        text-align: right;\n",
       "    }\n",
       "</style>\n",
       "<table border=\"1\" class=\"dataframe\">\n",
       "  <thead>\n",
       "    <tr style=\"text-align: right;\">\n",
       "      <th></th>\n",
       "      <th>rsquared_adj</th>\n",
       "      <th>rsquared</th>\n",
       "    </tr>\n",
       "  </thead>\n",
       "  <tbody>\n",
       "    <tr>\n",
       "      <td>0</td>\n",
       "      <td>0.834</td>\n",
       "      <td>0.850</td>\n",
       "    </tr>\n",
       "    <tr>\n",
       "      <td>1</td>\n",
       "      <td>0.842</td>\n",
       "      <td>0.857</td>\n",
       "    </tr>\n",
       "    <tr>\n",
       "      <td>2</td>\n",
       "      <td>0.802</td>\n",
       "      <td>0.821</td>\n",
       "    </tr>\n",
       "    <tr>\n",
       "      <td>3</td>\n",
       "      <td>0.872</td>\n",
       "      <td>0.886</td>\n",
       "    </tr>\n",
       "    <tr>\n",
       "      <td>4</td>\n",
       "      <td>0.644</td>\n",
       "      <td>0.682</td>\n",
       "    </tr>\n",
       "    <tr>\n",
       "      <td>...</td>\n",
       "      <td>...</td>\n",
       "      <td>...</td>\n",
       "    </tr>\n",
       "    <tr>\n",
       "      <td>995</td>\n",
       "      <td>0.087</td>\n",
       "      <td>0.342</td>\n",
       "    </tr>\n",
       "    <tr>\n",
       "      <td>996</td>\n",
       "      <td>0.000</td>\n",
       "      <td>0.140</td>\n",
       "    </tr>\n",
       "    <tr>\n",
       "      <td>997</td>\n",
       "      <td>0.618</td>\n",
       "      <td>0.716</td>\n",
       "    </tr>\n",
       "    <tr>\n",
       "      <td>998</td>\n",
       "      <td>0.298</td>\n",
       "      <td>0.489</td>\n",
       "    </tr>\n",
       "    <tr>\n",
       "      <td>999</td>\n",
       "      <td>0.117</td>\n",
       "      <td>0.386</td>\n",
       "    </tr>\n",
       "  </tbody>\n",
       "</table>\n",
       "<p>1000 rows × 2 columns</p>\n",
       "</div>"
      ],
      "text/plain": [
       "     rsquared_adj  rsquared\n",
       "0           0.834     0.850\n",
       "1           0.842     0.857\n",
       "2           0.802     0.821\n",
       "3           0.872     0.886\n",
       "4           0.644     0.682\n",
       "..            ...       ...\n",
       "995         0.087     0.342\n",
       "996         0.000     0.140\n",
       "997         0.618     0.716\n",
       "998         0.298     0.489\n",
       "999         0.117     0.386\n",
       "\n",
       "[1000 rows x 2 columns]"
      ]
     },
     "execution_count": 30,
     "metadata": {},
     "output_type": "execute_result"
    }
   ],
   "source": [
    "#모델들의 rsquared2 합치기\n",
    "rsquared2=[]\n",
    "for model in models:\n",
    "    result=model.fit()\n",
    "    rsquared2.append(result.rsquared)\n",
    "rsquared2=[round(rsquared,3) for rsquared in rsquared2]\n",
    "\n",
    "#모델들의 rsquared_adj 합치기\n",
    "rsquared_adj2=[]\n",
    "for model in models:\n",
    "    result=model.fit()\n",
    "    rsquared_adj2.append(result.rsquared_adj)\n",
    "rsquared_adj2=[round(rsquared_adj,3) for rsquared_adj in rsquared_adj2]\n",
    "\n",
    "#rsquared 데이터프레임만들기\n",
    "#null,inf,음수,1이상 전처리.\n",
    "rsquared_df2=pd.DataFrame(rsquared2,rsquared_adj2).reset_index().rename(columns={'index':'rsquared_adj',0:'rsquared'})\n",
    "rsquared_df2=rsquared_df2.fillna(0)\n",
    "rsquared_df2[np.isinf]=0\n",
    "rsquared_df2[rsquared_df2<0]=0\n",
    "rsquared_df2[rsquared_df2>1]=1\n",
    "rsquared_df2"
   ]
  },
  {
   "cell_type": "markdown",
   "metadata": {},
   "source": [
    "- rsquared_df와 rsquared_df2의 연관성"
   ]
  },
  {
   "cell_type": "code",
   "execution_count": 31,
   "metadata": {},
   "outputs": [
    {
     "data": {
      "text/plain": [
       "0.4545"
      ]
     },
     "execution_count": 31,
     "metadata": {},
     "output_type": "execute_result"
    }
   ],
   "source": [
    "#정규화 하지 않은 경우\n",
    "rsquared_df2['rsquared'].median()"
   ]
  },
  {
   "cell_type": "code",
   "execution_count": 32,
   "metadata": {},
   "outputs": [],
   "source": [
    "#정규화 가중치에 따라 models의 평균 rsquared, rsquared_adj 를 반환하는 함수\n",
    "#이때의 rsquared,rsquared_adj는 각 모델별 값으로, 실제 우리의 모델과는 구하는 방식이 다를 수 있다.\n",
    "#따라서, 아래의 함수는 최적의 가중치를 얻어내는 인사이트로만 활용하자.\n",
    "def weight_regularization(models,L1_wt=0):\n",
    "    df_mean=pd.DataFrame()\n",
    "    for n in np.arange(0.01,0.1,0.01).tolist():\n",
    "        results_fr_rsquared=[]\n",
    "        results_fr_rsquared_adj=[]\n",
    "        rs_mean=[]\n",
    "        rs_adj_mean=[]\n",
    "        for model in models:\n",
    "            #정규화\n",
    "            #alpah 가중치=n\n",
    "            results_fu = model.fit()\n",
    "            results_fr = model.fit_regularized(L1_wt=L1_wt, alpha=n, start_params=results_fu.params)\n",
    "            results_fr_fit = sm.regression.linear_model.OLSResults(model, results_fr.params, model.normalized_cov_params)\n",
    "            #rsquared,rsquared_adj\n",
    "            results_fr_rsquared.append(results_fr_fit.rsquared)\n",
    "            results_fr_rsquared_adj.append(results_fr_fit.rsquared_adj)\n",
    "            \n",
    "        results_fr_rsquared=[round(rsquared,3) for rsquared in results_fr_rsquared]\n",
    "        results_fr_rsquared_adj=[round(rsquared,3) for rsquared in results_fr_rsquared_adj]\n",
    "        \n",
    "        #dataframe\n",
    "        results_fr_df=pd.DataFrame({'rsquared':results_fr_rsquared,'rsquared_adj':results_fr_rsquared_adj})\n",
    "        results_fr_df=results_fr_df.fillna(0)\n",
    "        results_fr_df[np.isinf]=0\n",
    "        results_fr_df[results_fr_df<0]=0\n",
    "        results_fr_df[results_fr_df>1]=1\n",
    "        #mean\n",
    "        rs_mean.append(results_fr_df['rsquared'].mean())\n",
    "        rs_adj_mean.append(results_fr_df['rsquared_adj'].mean())\n",
    "        #mean_dataframe\n",
    "        df=pd.DataFrame({'alpha':n,'rs_mean':rs_mean,'rs_adj_mean':rs_adj_mean})\n",
    "        df_mean=pd.concat([df_mean,df])\n",
    "        max_of_rs_mean=df_mean[df_mean['rs_mean']==df_mean['rs_mean'].max()]\n",
    "        max_of_rs_adj_mean=df_mean[df_mean['rs_adj_mean']==df_mean['rs_adj_mean'].max()]\n",
    "    return df_mean,max_of_rs_mean,max_of_rs_adj_mean"
   ]
  },
  {
   "cell_type": "code",
   "execution_count": 33,
   "metadata": {},
   "outputs": [
    {
     "data": {
      "text/html": [
       "<div>\n",
       "<style scoped>\n",
       "    .dataframe tbody tr th:only-of-type {\n",
       "        vertical-align: middle;\n",
       "    }\n",
       "\n",
       "    .dataframe tbody tr th {\n",
       "        vertical-align: top;\n",
       "    }\n",
       "\n",
       "    .dataframe thead th {\n",
       "        text-align: right;\n",
       "    }\n",
       "</style>\n",
       "<table border=\"1\" class=\"dataframe\">\n",
       "  <thead>\n",
       "    <tr style=\"text-align: right;\">\n",
       "      <th></th>\n",
       "      <th>alpha</th>\n",
       "      <th>rs_mean</th>\n",
       "      <th>rs_adj_mean</th>\n",
       "    </tr>\n",
       "  </thead>\n",
       "  <tbody>\n",
       "    <tr>\n",
       "      <td>0</td>\n",
       "      <td>0.01</td>\n",
       "      <td>0.450035</td>\n",
       "      <td>0.320521</td>\n",
       "    </tr>\n",
       "    <tr>\n",
       "      <td>0</td>\n",
       "      <td>0.02</td>\n",
       "      <td>0.433337</td>\n",
       "      <td>0.303265</td>\n",
       "    </tr>\n",
       "    <tr>\n",
       "      <td>0</td>\n",
       "      <td>0.03</td>\n",
       "      <td>0.420071</td>\n",
       "      <td>0.289972</td>\n",
       "    </tr>\n",
       "    <tr>\n",
       "      <td>0</td>\n",
       "      <td>0.04</td>\n",
       "      <td>0.408901</td>\n",
       "      <td>0.279176</td>\n",
       "    </tr>\n",
       "    <tr>\n",
       "      <td>0</td>\n",
       "      <td>0.05</td>\n",
       "      <td>0.399168</td>\n",
       "      <td>0.270077</td>\n",
       "    </tr>\n",
       "    <tr>\n",
       "      <td>0</td>\n",
       "      <td>0.06</td>\n",
       "      <td>0.390545</td>\n",
       "      <td>0.262209</td>\n",
       "    </tr>\n",
       "    <tr>\n",
       "      <td>0</td>\n",
       "      <td>0.07</td>\n",
       "      <td>0.382795</td>\n",
       "      <td>0.255332</td>\n",
       "    </tr>\n",
       "    <tr>\n",
       "      <td>0</td>\n",
       "      <td>0.08</td>\n",
       "      <td>0.375714</td>\n",
       "      <td>0.249180</td>\n",
       "    </tr>\n",
       "    <tr>\n",
       "      <td>0</td>\n",
       "      <td>0.09</td>\n",
       "      <td>0.369193</td>\n",
       "      <td>0.243547</td>\n",
       "    </tr>\n",
       "  </tbody>\n",
       "</table>\n",
       "</div>"
      ],
      "text/plain": [
       "   alpha   rs_mean  rs_adj_mean\n",
       "0   0.01  0.450035     0.320521\n",
       "0   0.02  0.433337     0.303265\n",
       "0   0.03  0.420071     0.289972\n",
       "0   0.04  0.408901     0.279176\n",
       "0   0.05  0.399168     0.270077\n",
       "0   0.06  0.390545     0.262209\n",
       "0   0.07  0.382795     0.255332\n",
       "0   0.08  0.375714     0.249180\n",
       "0   0.09  0.369193     0.243547"
      ]
     },
     "execution_count": 33,
     "metadata": {},
     "output_type": "execute_result"
    }
   ],
   "source": [
    "#L1_wt=0 : ridge 모형\n",
    "#최적의 alpha : 0.01\n",
    "df_mean,max_of_rs_mean,max_of_rs_adj_mean=weight_regularization(models,0)\n",
    "df_mean"
   ]
  },
  {
   "cell_type": "code",
   "execution_count": 34,
   "metadata": {},
   "outputs": [
    {
     "data": {
      "text/html": [
       "<div>\n",
       "<style scoped>\n",
       "    .dataframe tbody tr th:only-of-type {\n",
       "        vertical-align: middle;\n",
       "    }\n",
       "\n",
       "    .dataframe tbody tr th {\n",
       "        vertical-align: top;\n",
       "    }\n",
       "\n",
       "    .dataframe thead th {\n",
       "        text-align: right;\n",
       "    }\n",
       "</style>\n",
       "<table border=\"1\" class=\"dataframe\">\n",
       "  <thead>\n",
       "    <tr style=\"text-align: right;\">\n",
       "      <th></th>\n",
       "      <th>alpha</th>\n",
       "      <th>rs_mean</th>\n",
       "      <th>rs_adj_mean</th>\n",
       "    </tr>\n",
       "  </thead>\n",
       "  <tbody>\n",
       "    <tr>\n",
       "      <td>0</td>\n",
       "      <td>0.01</td>\n",
       "      <td>0.450035</td>\n",
       "      <td>0.320521</td>\n",
       "    </tr>\n",
       "  </tbody>\n",
       "</table>\n",
       "</div>"
      ],
      "text/plain": [
       "   alpha   rs_mean  rs_adj_mean\n",
       "0   0.01  0.450035     0.320521"
      ]
     },
     "execution_count": 34,
     "metadata": {},
     "output_type": "execute_result"
    }
   ],
   "source": [
    "max_of_rs_mean"
   ]
  },
  {
   "cell_type": "code",
   "execution_count": 35,
   "metadata": {},
   "outputs": [
    {
     "data": {
      "text/html": [
       "<div>\n",
       "<style scoped>\n",
       "    .dataframe tbody tr th:only-of-type {\n",
       "        vertical-align: middle;\n",
       "    }\n",
       "\n",
       "    .dataframe tbody tr th {\n",
       "        vertical-align: top;\n",
       "    }\n",
       "\n",
       "    .dataframe thead th {\n",
       "        text-align: right;\n",
       "    }\n",
       "</style>\n",
       "<table border=\"1\" class=\"dataframe\">\n",
       "  <thead>\n",
       "    <tr style=\"text-align: right;\">\n",
       "      <th></th>\n",
       "      <th>alpha</th>\n",
       "      <th>rs_mean</th>\n",
       "      <th>rs_adj_mean</th>\n",
       "    </tr>\n",
       "  </thead>\n",
       "  <tbody>\n",
       "    <tr>\n",
       "      <td>0</td>\n",
       "      <td>0.01</td>\n",
       "      <td>0.450035</td>\n",
       "      <td>0.320521</td>\n",
       "    </tr>\n",
       "  </tbody>\n",
       "</table>\n",
       "</div>"
      ],
      "text/plain": [
       "   alpha   rs_mean  rs_adj_mean\n",
       "0   0.01  0.450035     0.320521"
      ]
     },
     "execution_count": 35,
     "metadata": {},
     "output_type": "execute_result"
    }
   ],
   "source": [
    "max_of_rs_adj_mean"
   ]
  },
  {
   "cell_type": "code",
   "execution_count": 36,
   "metadata": {},
   "outputs": [
    {
     "data": {
      "text/html": [
       "<div>\n",
       "<style scoped>\n",
       "    .dataframe tbody tr th:only-of-type {\n",
       "        vertical-align: middle;\n",
       "    }\n",
       "\n",
       "    .dataframe tbody tr th {\n",
       "        vertical-align: top;\n",
       "    }\n",
       "\n",
       "    .dataframe thead th {\n",
       "        text-align: right;\n",
       "    }\n",
       "</style>\n",
       "<table border=\"1\" class=\"dataframe\">\n",
       "  <thead>\n",
       "    <tr style=\"text-align: right;\">\n",
       "      <th></th>\n",
       "      <th>alpha</th>\n",
       "      <th>rs_mean</th>\n",
       "      <th>rs_adj_mean</th>\n",
       "    </tr>\n",
       "  </thead>\n",
       "  <tbody>\n",
       "    <tr>\n",
       "      <td>0</td>\n",
       "      <td>0.01</td>\n",
       "      <td>0.315667</td>\n",
       "      <td>0.226215</td>\n",
       "    </tr>\n",
       "    <tr>\n",
       "      <td>0</td>\n",
       "      <td>0.02</td>\n",
       "      <td>0.255392</td>\n",
       "      <td>0.184920</td>\n",
       "    </tr>\n",
       "    <tr>\n",
       "      <td>0</td>\n",
       "      <td>0.03</td>\n",
       "      <td>0.220809</td>\n",
       "      <td>0.164038</td>\n",
       "    </tr>\n",
       "    <tr>\n",
       "      <td>0</td>\n",
       "      <td>0.04</td>\n",
       "      <td>0.198891</td>\n",
       "      <td>0.149341</td>\n",
       "    </tr>\n",
       "    <tr>\n",
       "      <td>0</td>\n",
       "      <td>0.05</td>\n",
       "      <td>0.183248</td>\n",
       "      <td>0.138847</td>\n",
       "    </tr>\n",
       "    <tr>\n",
       "      <td>0</td>\n",
       "      <td>0.06</td>\n",
       "      <td>0.170921</td>\n",
       "      <td>0.130729</td>\n",
       "    </tr>\n",
       "    <tr>\n",
       "      <td>0</td>\n",
       "      <td>0.07</td>\n",
       "      <td>0.161452</td>\n",
       "      <td>0.123906</td>\n",
       "    </tr>\n",
       "    <tr>\n",
       "      <td>0</td>\n",
       "      <td>0.08</td>\n",
       "      <td>0.153266</td>\n",
       "      <td>0.117693</td>\n",
       "    </tr>\n",
       "    <tr>\n",
       "      <td>0</td>\n",
       "      <td>0.09</td>\n",
       "      <td>0.146676</td>\n",
       "      <td>0.112240</td>\n",
       "    </tr>\n",
       "  </tbody>\n",
       "</table>\n",
       "</div>"
      ],
      "text/plain": [
       "   alpha   rs_mean  rs_adj_mean\n",
       "0   0.01  0.315667     0.226215\n",
       "0   0.02  0.255392     0.184920\n",
       "0   0.03  0.220809     0.164038\n",
       "0   0.04  0.198891     0.149341\n",
       "0   0.05  0.183248     0.138847\n",
       "0   0.06  0.170921     0.130729\n",
       "0   0.07  0.161452     0.123906\n",
       "0   0.08  0.153266     0.117693\n",
       "0   0.09  0.146676     0.112240"
      ]
     },
     "execution_count": 36,
     "metadata": {},
     "output_type": "execute_result"
    }
   ],
   "source": [
    "##L1_wt=1 : Lasso 모형\n",
    "#최적의 alpha : \n",
    "df_mean,max_of_rs_mean,max_of_rs_adj_mean=weight_regularization(models,1)\n",
    "df_mean"
   ]
  },
  {
   "cell_type": "code",
   "execution_count": 37,
   "metadata": {},
   "outputs": [
    {
     "data": {
      "text/html": [
       "<div>\n",
       "<style scoped>\n",
       "    .dataframe tbody tr th:only-of-type {\n",
       "        vertical-align: middle;\n",
       "    }\n",
       "\n",
       "    .dataframe tbody tr th {\n",
       "        vertical-align: top;\n",
       "    }\n",
       "\n",
       "    .dataframe thead th {\n",
       "        text-align: right;\n",
       "    }\n",
       "</style>\n",
       "<table border=\"1\" class=\"dataframe\">\n",
       "  <thead>\n",
       "    <tr style=\"text-align: right;\">\n",
       "      <th></th>\n",
       "      <th>alpha</th>\n",
       "      <th>rs_mean</th>\n",
       "      <th>rs_adj_mean</th>\n",
       "    </tr>\n",
       "  </thead>\n",
       "  <tbody>\n",
       "    <tr>\n",
       "      <td>0</td>\n",
       "      <td>0.01</td>\n",
       "      <td>0.315667</td>\n",
       "      <td>0.226215</td>\n",
       "    </tr>\n",
       "  </tbody>\n",
       "</table>\n",
       "</div>"
      ],
      "text/plain": [
       "   alpha   rs_mean  rs_adj_mean\n",
       "0   0.01  0.315667     0.226215"
      ]
     },
     "execution_count": 37,
     "metadata": {},
     "output_type": "execute_result"
    }
   ],
   "source": [
    "max_of_rs_mean"
   ]
  },
  {
   "cell_type": "code",
   "execution_count": 38,
   "metadata": {},
   "outputs": [
    {
     "data": {
      "text/html": [
       "<div>\n",
       "<style scoped>\n",
       "    .dataframe tbody tr th:only-of-type {\n",
       "        vertical-align: middle;\n",
       "    }\n",
       "\n",
       "    .dataframe tbody tr th {\n",
       "        vertical-align: top;\n",
       "    }\n",
       "\n",
       "    .dataframe thead th {\n",
       "        text-align: right;\n",
       "    }\n",
       "</style>\n",
       "<table border=\"1\" class=\"dataframe\">\n",
       "  <thead>\n",
       "    <tr style=\"text-align: right;\">\n",
       "      <th></th>\n",
       "      <th>alpha</th>\n",
       "      <th>rs_mean</th>\n",
       "      <th>rs_adj_mean</th>\n",
       "    </tr>\n",
       "  </thead>\n",
       "  <tbody>\n",
       "    <tr>\n",
       "      <td>0</td>\n",
       "      <td>0.01</td>\n",
       "      <td>0.315667</td>\n",
       "      <td>0.226215</td>\n",
       "    </tr>\n",
       "  </tbody>\n",
       "</table>\n",
       "</div>"
      ],
      "text/plain": [
       "   alpha   rs_mean  rs_adj_mean\n",
       "0   0.01  0.315667     0.226215"
      ]
     },
     "execution_count": 38,
     "metadata": {},
     "output_type": "execute_result"
    }
   ],
   "source": [
    "max_of_rs_adj_mean"
   ]
  },
  {
   "cell_type": "code",
   "execution_count": 39,
   "metadata": {},
   "outputs": [
    {
     "data": {
      "text/html": [
       "<div>\n",
       "<style scoped>\n",
       "    .dataframe tbody tr th:only-of-type {\n",
       "        vertical-align: middle;\n",
       "    }\n",
       "\n",
       "    .dataframe tbody tr th {\n",
       "        vertical-align: top;\n",
       "    }\n",
       "\n",
       "    .dataframe thead th {\n",
       "        text-align: right;\n",
       "    }\n",
       "</style>\n",
       "<table border=\"1\" class=\"dataframe\">\n",
       "  <thead>\n",
       "    <tr style=\"text-align: right;\">\n",
       "      <th></th>\n",
       "      <th>alpha</th>\n",
       "      <th>rs_mean</th>\n",
       "      <th>rs_adj_mean</th>\n",
       "    </tr>\n",
       "  </thead>\n",
       "  <tbody>\n",
       "    <tr>\n",
       "      <td>0</td>\n",
       "      <td>0.01</td>\n",
       "      <td>0.360899</td>\n",
       "      <td>0.256567</td>\n",
       "    </tr>\n",
       "    <tr>\n",
       "      <td>0</td>\n",
       "      <td>0.02</td>\n",
       "      <td>0.306830</td>\n",
       "      <td>0.217400</td>\n",
       "    </tr>\n",
       "    <tr>\n",
       "      <td>0</td>\n",
       "      <td>0.03</td>\n",
       "      <td>0.272111</td>\n",
       "      <td>0.193112</td>\n",
       "    </tr>\n",
       "    <tr>\n",
       "      <td>0</td>\n",
       "      <td>0.04</td>\n",
       "      <td>0.246643</td>\n",
       "      <td>0.176879</td>\n",
       "    </tr>\n",
       "    <tr>\n",
       "      <td>0</td>\n",
       "      <td>0.05</td>\n",
       "      <td>0.227071</td>\n",
       "      <td>0.165570</td>\n",
       "    </tr>\n",
       "    <tr>\n",
       "      <td>0</td>\n",
       "      <td>0.06</td>\n",
       "      <td>0.212234</td>\n",
       "      <td>0.156182</td>\n",
       "    </tr>\n",
       "    <tr>\n",
       "      <td>0</td>\n",
       "      <td>0.07</td>\n",
       "      <td>0.200842</td>\n",
       "      <td>0.148668</td>\n",
       "    </tr>\n",
       "    <tr>\n",
       "      <td>0</td>\n",
       "      <td>0.08</td>\n",
       "      <td>0.191346</td>\n",
       "      <td>0.142468</td>\n",
       "    </tr>\n",
       "    <tr>\n",
       "      <td>0</td>\n",
       "      <td>0.09</td>\n",
       "      <td>0.183001</td>\n",
       "      <td>0.136972</td>\n",
       "    </tr>\n",
       "  </tbody>\n",
       "</table>\n",
       "</div>"
      ],
      "text/plain": [
       "   alpha   rs_mean  rs_adj_mean\n",
       "0   0.01  0.360899     0.256567\n",
       "0   0.02  0.306830     0.217400\n",
       "0   0.03  0.272111     0.193112\n",
       "0   0.04  0.246643     0.176879\n",
       "0   0.05  0.227071     0.165570\n",
       "0   0.06  0.212234     0.156182\n",
       "0   0.07  0.200842     0.148668\n",
       "0   0.08  0.191346     0.142468\n",
       "0   0.09  0.183001     0.136972"
      ]
     },
     "execution_count": 39,
     "metadata": {},
     "output_type": "execute_result"
    }
   ],
   "source": [
    "##L1_wt=0.05 : Elastic Net 모형\n",
    "#최적의 alpha : \n",
    "df_mean,max_of_rs_mean,max_of_rs_adj_mean=weight_regularization(models,0.5)\n",
    "df_mean"
   ]
  },
  {
   "cell_type": "code",
   "execution_count": 40,
   "metadata": {},
   "outputs": [
    {
     "data": {
      "text/html": [
       "<div>\n",
       "<style scoped>\n",
       "    .dataframe tbody tr th:only-of-type {\n",
       "        vertical-align: middle;\n",
       "    }\n",
       "\n",
       "    .dataframe tbody tr th {\n",
       "        vertical-align: top;\n",
       "    }\n",
       "\n",
       "    .dataframe thead th {\n",
       "        text-align: right;\n",
       "    }\n",
       "</style>\n",
       "<table border=\"1\" class=\"dataframe\">\n",
       "  <thead>\n",
       "    <tr style=\"text-align: right;\">\n",
       "      <th></th>\n",
       "      <th>alpha</th>\n",
       "      <th>rs_mean</th>\n",
       "      <th>rs_adj_mean</th>\n",
       "    </tr>\n",
       "  </thead>\n",
       "  <tbody>\n",
       "    <tr>\n",
       "      <td>0</td>\n",
       "      <td>0.01</td>\n",
       "      <td>0.360899</td>\n",
       "      <td>0.256567</td>\n",
       "    </tr>\n",
       "  </tbody>\n",
       "</table>\n",
       "</div>"
      ],
      "text/plain": [
       "   alpha   rs_mean  rs_adj_mean\n",
       "0   0.01  0.360899     0.256567"
      ]
     },
     "execution_count": 40,
     "metadata": {},
     "output_type": "execute_result"
    }
   ],
   "source": [
    "max_of_rs_mean"
   ]
  },
  {
   "cell_type": "code",
   "execution_count": 41,
   "metadata": {},
   "outputs": [
    {
     "data": {
      "text/html": [
       "<div>\n",
       "<style scoped>\n",
       "    .dataframe tbody tr th:only-of-type {\n",
       "        vertical-align: middle;\n",
       "    }\n",
       "\n",
       "    .dataframe tbody tr th {\n",
       "        vertical-align: top;\n",
       "    }\n",
       "\n",
       "    .dataframe thead th {\n",
       "        text-align: right;\n",
       "    }\n",
       "</style>\n",
       "<table border=\"1\" class=\"dataframe\">\n",
       "  <thead>\n",
       "    <tr style=\"text-align: right;\">\n",
       "      <th></th>\n",
       "      <th>alpha</th>\n",
       "      <th>rs_mean</th>\n",
       "      <th>rs_adj_mean</th>\n",
       "    </tr>\n",
       "  </thead>\n",
       "  <tbody>\n",
       "    <tr>\n",
       "      <td>0</td>\n",
       "      <td>0.01</td>\n",
       "      <td>0.360899</td>\n",
       "      <td>0.256567</td>\n",
       "    </tr>\n",
       "  </tbody>\n",
       "</table>\n",
       "</div>"
      ],
      "text/plain": [
       "   alpha   rs_mean  rs_adj_mean\n",
       "0   0.01  0.360899     0.256567"
      ]
     },
     "execution_count": 41,
     "metadata": {},
     "output_type": "execute_result"
    }
   ],
   "source": [
    "max_of_rs_adj_mean"
   ]
  },
  {
   "cell_type": "markdown",
   "metadata": {},
   "source": [
    "#### 결론\n",
    "- ridge 정규화, alpha:0.01 이 가장 적합하다."
   ]
  },
  {
   "cell_type": "markdown",
   "metadata": {},
   "source": [
    "### 정규화를 적용하여 모델 돌리기\n",
    "- 사용한 정규화 : ridge 정규화, alpha:0.01\n",
    "- result = model.fit_regularized(alpha=0.01, L1_wt=0)\n",
    "- 정규화 과정에서 변경된 부분만 나타내기 위하여 데이터로드,변수추가,스케일링등의 과정은 생략함\n",
    "- ```ols_validation``` 함수에서 model 변수를 return한 이유는, 위에서 나타낸 최적의 정규화 가중치를 구하기 위해서이다. 따라서 실제 정규화를 적용할 때는 없애도 된다. "
   ]
  },
  {
   "cell_type": "code",
   "execution_count": 10,
   "metadata": {},
   "outputs": [],
   "source": [
    "# split 데이터 검증용\n",
    "# train + validation data를 받아서 임의의 정류장 갯수를 가져옴\n",
    "def split(df_train, num, seed):\n",
    "    \n",
    "    test_frame = pd.DataFrame(columns=df_train.columns)\n",
    "    np.random.seed(seed)\n",
    "\n",
    "    for i in np.random.choice(df_train['station_code'].unique(), num, replace=False):\n",
    "        df1 = df_train[df_train['station_code'] == i]\n",
    "        test_frame = pd.concat([test_frame, df1])\n",
    "    return test_frame\n",
    "\n",
    "\n",
    "# 데이터 검증용 함수\n",
    "# df_train(or test_frame)를 train_df(학습)와 validation_df(검주ㅡㅇ)를 만듬\n",
    "# train에는 중복제거된 데이터가 포함되어있음\n",
    "# train과 validation을 나누는 과정에서 random_state를 다르게 주면 데이터가 바뀜(Kfold와 비슷한 효과)\n",
    "def make_train_validation(dataframe, cate, test_size, seed):\n",
    "    train_df = pd.DataFrame(columns=dataframe.columns)\n",
    "    validation_df = pd.DataFrame(columns=dataframe.columns)\n",
    "    total = tqdm(dataframe['station_code'].unique())\n",
    "    print('make_train_validation 실행중....')\n",
    "    for i in total:\n",
    "        df1 = dataframe[dataframe['station_code'] == i]\n",
    "        # 필수 train 데이터를 만들고\n",
    "        nec_train = df1.drop_duplicates(subset=cate)\n",
    "        # 필수 train 데이터를 제외한 train_validation을 만듬\n",
    "        train_validation = df1.drop(df1['id'][nec_train['id']])\n",
    "        # 만약 필수 train데이터와 train_validation의 크기가 같다(모두 고윳값이다)면\n",
    "        if len(nec_train) == len(df1):\n",
    "            #그냥 모두 train_df에 넣음,(validation에는 넣지않음, 박사님 피드백)\n",
    "            train_df = pd.concat([train_df, nec_train])\n",
    "\n",
    "        # 만약 train_validation의 갯수가 1이하면, train_validation은 바로 validation이 됨       \n",
    "        elif len(train_validation) <= 1:\n",
    "            # train_df와\n",
    "            train_df = pd.concat([train_df, nec_train])\n",
    "            # validation_df를 생성함\n",
    "            validation_df = pd.concat([validation_df, train_validation])\n",
    "        # 그 외에는 필수 train + train , validation 으로 나눠줌\n",
    "        else:\n",
    "            X, y = train_test_split(\n",
    "                train_validation, test_size=test_size, random_state=seed)\n",
    "            train_a = pd.concat([nec_train, X])\n",
    "            train_df = pd.concat([train_df, train_a])\n",
    "            validation_df = pd.concat([validation_df, y])\n",
    "    return train_df, validation_df\n",
    "\n",
    "# 검증 모델\n",
    "# 만일 validation_df의 station_code가 없다면 학습만하고 예측을 하지 않음\n",
    "def ols_validation(train_df, validation_df, var, cate):\n",
    "    \n",
    "    total = tqdm(train_df['station_code'].unique())\n",
    "    columns = train_df.columns\n",
    "    df_tr = pd.DataFrame(columns=columns)\n",
    "    df_te = pd.DataFrame(columns=columns)\n",
    "    df_tr['yhat'] = 999\n",
    "    df_te['yhat'] = 999\n",
    "    cate_c = [f\"C({name})\" for name in cate]\n",
    "    y = ['scale_ride18']\n",
    "    print('ols_validation 실행중....')\n",
    "    models=[]\n",
    "    for i in total:\n",
    "        train_ols = train_df[train_df['station_code'] == i]\n",
    "        validation_ols = validation_df[validation_df['station_code'] == i]\n",
    "    \n",
    "        if len(validation_ols) ==0:\n",
    "            model = sm.OLS.from_formula(\n",
    "            'scale_ride18  ~ ' + '+'.join(var)\n",
    "            + '+'.join('+') + '+'.join(cate_c), data=train_ols)\n",
    "            models.append(model)\n",
    "            # 학습\n",
    "            result = model.fit_regularized(alpha=0.01, L1_wt=0)\n",
    "            # 결과\n",
    "            train_ols['yhat'] = result.predict(train_ols)\n",
    "            # 학습 저장\n",
    "            df_tr = pd.concat([df_tr, train_ols])\n",
    "\n",
    "        else :\n",
    "            model = sm.OLS.from_formula(\n",
    "            'scale_ride18  ~ ' + '+'.join(var)\n",
    "            + '+'.join('+') + '+'.join(cate_c), data=train_ols)\n",
    "            models.append(model)\n",
    "            # 학습\n",
    "            result = model.fit_regularized(alpha=0.01, L1_wt=0)\n",
    "            # 결과\n",
    "            train_ols['yhat'] = result.predict(train_ols)\n",
    "            # 학습 저장\n",
    "            df_tr = pd.concat([df_tr, train_ols])\n",
    "            \n",
    "            validation_ols_df = validation_ols[var+cate]  # 테스트 모델\n",
    "            validation_ols['yhat'] = result.predict(validation_ols_df)\n",
    "            df_te = pd.concat([df_te, validation_ols])\n",
    "    return df_tr, df_te, models\n",
    "\n",
    "# R스퀘어 구하기\n",
    "# 앞에서 train과 validation 분리한 seed를 넣어 어떤 seed가 어떤 결정계수가 나왔는지 확인한다.\n",
    "# DataFrame형태로 반환\n",
    "def get_rsquared(df_tr, df_te, seed):\n",
    "\n",
    "    df_tr['residual'] = df_tr['scale_ride18'] - df_tr['yhat']\n",
    "    df_tr['explained'] = df_tr['yhat'] - np.mean(df_tr['yhat'])\n",
    "    df_tr['total'] = df_tr['scale_ride18'] - np.mean(df_tr['scale_ride18'])\n",
    "\n",
    "    df_te['residual'] = df_te['scale_ride18'] - df_te['yhat']\n",
    "    df_te['explained'] = df_te['yhat'] - np.mean(df_te['yhat'])\n",
    "    df_te['total'] = df_te['scale_ride18'] - np.mean(df_te['scale_ride18'])\n",
    "\n",
    "    train_ess = np.sum((df_tr['explained'] ** 2))\n",
    "    train_rss = np.sum((df_tr['residual'] ** 2))\n",
    "    train_tss = np.sum((df_tr['total'] ** 2))\n",
    "    test_ess = np.sum((df_te['explained'] ** 2))\n",
    "    test_rss = np.sum((df_te['residual'] ** 2))\n",
    "    test_tss = np.sum((df_te['total'] ** 2))\n",
    "\n",
    "    rsquared = {'seed': [f'{seed}'],\n",
    "             'train_rsquared_1': [1-train_rss/train_tss],\n",
    "             'train_rsquared_2': [train_ess/train_tss],\n",
    "             'validation_rsquared_1': [1-test_rss/test_tss],\n",
    "             'validation_rsquared_2': [test_ess/test_tss],\n",
    "             'train_ESS' : [round(train_ess)],\n",
    "             'train_RSS' : [round(train_rss)],\n",
    "             'train_TSS' : [round(train_tss)],\n",
    "             'validation_ESS' : [round(test_ess)],\n",
    "             'validation_RSS' : [round(test_rss)],\n",
    "             'validation_TSS' : [round(test_tss)],\n",
    "             'train_RMSE' : [np.sqrt(((df_tr['scale_ride18'] - df_tr['yhat']) ** 2).mean())],\n",
    "             'validation_RMSE' : [np.sqrt(((df_te['scale_ride18'] - df_te['yhat']) ** 2).mean())],\n",
    "               }\n",
    "    print(f'seed : {seed} 완료')\n",
    "    return pd.DataFrame(rsquared)"
   ]
  },
  {
   "cell_type": "code",
   "execution_count": 11,
   "metadata": {},
   "outputs": [],
   "source": [
    "# 한번에 여러번 해보기\n",
    "# 위에서 만든 make_train_validation -> ols_validation -> get_rsquared의 순서를 거침\n",
    "# 시드를 리스트로 받아서\n",
    "# dataframe = (train과 validation으로 나누기 전의 데이터)\n",
    "# seeds = 리스트형태의 seed 목록 (갯수만큼 ols를 검증함)\n",
    "# test_size = validation_size, 왠만하면 0.2로 고정해주세요\n",
    "# 리턴되는 rsquared_df 데이터 프레임에 train, validation의 결정계수, ess, rss, tss, RMSE를 seed 별로 데이터프레임으로 만들어줍니다.\n",
    "\n",
    "def validations(dataframe, seeds, test_size):\n",
    "    rsquared_df = pd.DataFrame()\n",
    "    for seed in seeds:\n",
    "        train_df, validation_df = make_train_validation(dataframe, cate, test_size, seed)\n",
    "        df_tr, df_te, models = ols_validation(train_df, validation_df, var, cate)\n",
    "        rsquared = get_rsquared(df_tr, df_te, seed)\n",
    "        rsquared_df = pd.concat([rsquared_df, rsquared])\n",
    "    return rsquared_df, models"
   ]
  },
  {
   "cell_type": "code",
   "execution_count": 13,
   "metadata": {},
   "outputs": [
    {
     "name": "stdout",
     "output_type": "stream",
     "text": [
      "상위 정류장 1000개는 전체 3563개의 정류소 중 75.9 %를 대표합니다.\n"
     ]
    },
    {
     "data": {
      "application/vnd.jupyter.widget-view+json": {
       "model_id": "257a851c76a843589185fa52426fe3d3",
       "version_major": 2,
       "version_minor": 0
      },
      "text/plain": [
       "HBox(children=(IntProgress(value=0, max=1000), HTML(value='')))"
      ]
     },
     "metadata": {},
     "output_type": "display_data"
    },
    {
     "name": "stdout",
     "output_type": "stream",
     "text": [
      "\n"
     ]
    }
   ],
   "source": [
    "# 상위 정류장 1000개 만들고\n",
    "# 전체 3563개의  정류장 중 상위 1000개의 정류장이 전체 데이터의 약 76% 이상을 차지 함\n",
    "dataframe_1000 = make_top_station(1000)"
   ]
  },
  {
   "cell_type": "code",
   "execution_count": 28,
   "metadata": {},
   "outputs": [
    {
     "data": {
      "application/vnd.jupyter.widget-view+json": {
       "model_id": "5a194d6927ad42b9bad3ce5ff933cf2a",
       "version_major": 2,
       "version_minor": 0
      },
      "text/plain": [
       "HBox(children=(IntProgress(value=0, max=1000), HTML(value='')))"
      ]
     },
     "metadata": {},
     "output_type": "display_data"
    },
    {
     "name": "stdout",
     "output_type": "stream",
     "text": [
      "make_train_validation 실행중....\n",
      "\n"
     ]
    },
    {
     "data": {
      "application/vnd.jupyter.widget-view+json": {
       "model_id": "b9004fc844ad46e0a53352ca79052497",
       "version_major": 2,
       "version_minor": 0
      },
      "text/plain": [
       "HBox(children=(IntProgress(value=0, max=1000), HTML(value='')))"
      ]
     },
     "metadata": {},
     "output_type": "display_data"
    },
    {
     "name": "stdout",
     "output_type": "stream",
     "text": [
      "ols_validation 실행중....\n",
      "\n",
      "seed : 300 완료\n"
     ]
    },
    {
     "data": {
      "application/vnd.jupyter.widget-view+json": {
       "model_id": "3948424ea3e8431ead60431d51a54f18",
       "version_major": 2,
       "version_minor": 0
      },
      "text/plain": [
       "HBox(children=(IntProgress(value=0, max=1000), HTML(value='')))"
      ]
     },
     "metadata": {},
     "output_type": "display_data"
    },
    {
     "name": "stdout",
     "output_type": "stream",
     "text": [
      "make_train_validation 실행중....\n",
      "\n"
     ]
    },
    {
     "data": {
      "application/vnd.jupyter.widget-view+json": {
       "model_id": "761dccbf89f94c79b30e1ba847328f3a",
       "version_major": 2,
       "version_minor": 0
      },
      "text/plain": [
       "HBox(children=(IntProgress(value=0, max=1000), HTML(value='')))"
      ]
     },
     "metadata": {},
     "output_type": "display_data"
    },
    {
     "name": "stdout",
     "output_type": "stream",
     "text": [
      "ols_validation 실행중....\n",
      "\n",
      "seed : 20 완료\n"
     ]
    },
    {
     "data": {
      "application/vnd.jupyter.widget-view+json": {
       "model_id": "2c899ddde59e489ea89af44b4d0cfe35",
       "version_major": 2,
       "version_minor": 0
      },
      "text/plain": [
       "HBox(children=(IntProgress(value=0, max=1000), HTML(value='')))"
      ]
     },
     "metadata": {},
     "output_type": "display_data"
    },
    {
     "name": "stdout",
     "output_type": "stream",
     "text": [
      "make_train_validation 실행중....\n",
      "\n"
     ]
    },
    {
     "data": {
      "application/vnd.jupyter.widget-view+json": {
       "model_id": "13d0faaf81554ddaa135291e559091d6",
       "version_major": 2,
       "version_minor": 0
      },
      "text/plain": [
       "HBox(children=(IntProgress(value=0, max=1000), HTML(value='')))"
      ]
     },
     "metadata": {},
     "output_type": "display_data"
    },
    {
     "name": "stdout",
     "output_type": "stream",
     "text": [
      "ols_validation 실행중....\n",
      "\n",
      "seed : 30 완료\n"
     ]
    },
    {
     "data": {
      "application/vnd.jupyter.widget-view+json": {
       "model_id": "1e06fd54f27c4c699da32e8e984fd2ab",
       "version_major": 2,
       "version_minor": 0
      },
      "text/plain": [
       "HBox(children=(IntProgress(value=0, max=1000), HTML(value='')))"
      ]
     },
     "metadata": {},
     "output_type": "display_data"
    },
    {
     "name": "stdout",
     "output_type": "stream",
     "text": [
      "make_train_validation 실행중....\n",
      "\n"
     ]
    },
    {
     "data": {
      "application/vnd.jupyter.widget-view+json": {
       "model_id": "bbc65cbc4ee5492ba485d6b3061de946",
       "version_major": 2,
       "version_minor": 0
      },
      "text/plain": [
       "HBox(children=(IntProgress(value=0, max=1000), HTML(value='')))"
      ]
     },
     "metadata": {},
     "output_type": "display_data"
    },
    {
     "name": "stdout",
     "output_type": "stream",
     "text": [
      "ols_validation 실행중....\n",
      "\n",
      "seed : 40 완료\n"
     ]
    },
    {
     "data": {
      "application/vnd.jupyter.widget-view+json": {
       "model_id": "864d62f3f4f748f896bcde237985f09e",
       "version_major": 2,
       "version_minor": 0
      },
      "text/plain": [
       "HBox(children=(IntProgress(value=0, max=1000), HTML(value='')))"
      ]
     },
     "metadata": {},
     "output_type": "display_data"
    },
    {
     "name": "stdout",
     "output_type": "stream",
     "text": [
      "make_train_validation 실행중....\n",
      "\n"
     ]
    },
    {
     "data": {
      "application/vnd.jupyter.widget-view+json": {
       "model_id": "4f254fed143746c8afb6b74149fc707e",
       "version_major": 2,
       "version_minor": 0
      },
      "text/plain": [
       "HBox(children=(IntProgress(value=0, max=1000), HTML(value='')))"
      ]
     },
     "metadata": {},
     "output_type": "display_data"
    },
    {
     "name": "stdout",
     "output_type": "stream",
     "text": [
      "ols_validation 실행중....\n",
      "\n",
      "seed : 50 완료\n"
     ]
    },
    {
     "data": {
      "text/html": [
       "<div>\n",
       "<style scoped>\n",
       "    .dataframe tbody tr th:only-of-type {\n",
       "        vertical-align: middle;\n",
       "    }\n",
       "\n",
       "    .dataframe tbody tr th {\n",
       "        vertical-align: top;\n",
       "    }\n",
       "\n",
       "    .dataframe thead th {\n",
       "        text-align: right;\n",
       "    }\n",
       "</style>\n",
       "<table border=\"1\" class=\"dataframe\">\n",
       "  <thead>\n",
       "    <tr style=\"text-align: right;\">\n",
       "      <th></th>\n",
       "      <th>seed</th>\n",
       "      <th>train_rsquared_1</th>\n",
       "      <th>train_rsquared_2</th>\n",
       "      <th>validation_rsquared_1</th>\n",
       "      <th>validation_rsquared_2</th>\n",
       "      <th>train_ESS</th>\n",
       "      <th>train_RSS</th>\n",
       "      <th>train_TSS</th>\n",
       "      <th>validation_ESS</th>\n",
       "      <th>validation_RSS</th>\n",
       "      <th>validation_TSS</th>\n",
       "      <th>train_RMSE</th>\n",
       "      <th>validation_RMSE</th>\n",
       "    </tr>\n",
       "  </thead>\n",
       "  <tbody>\n",
       "    <tr>\n",
       "      <td>0</td>\n",
       "      <td>300</td>\n",
       "      <td>0.763522</td>\n",
       "      <td>0.721794</td>\n",
       "      <td>0.695598</td>\n",
       "      <td>0.669562</td>\n",
       "      <td>153520.0</td>\n",
       "      <td>50297.0</td>\n",
       "      <td>212693.0</td>\n",
       "      <td>55879.0</td>\n",
       "      <td>25404.0</td>\n",
       "      <td>83457.0</td>\n",
       "      <td>0.517154</td>\n",
       "      <td>0.694804</td>\n",
       "    </tr>\n",
       "    <tr>\n",
       "      <td>0</td>\n",
       "      <td>20</td>\n",
       "      <td>0.757149</td>\n",
       "      <td>0.715091</td>\n",
       "      <td>0.715326</td>\n",
       "      <td>0.637089</td>\n",
       "      <td>157155.0</td>\n",
       "      <td>53371.0</td>\n",
       "      <td>219769.0</td>\n",
       "      <td>48690.0</td>\n",
       "      <td>21757.0</td>\n",
       "      <td>76426.0</td>\n",
       "      <td>0.532723</td>\n",
       "      <td>0.642989</td>\n",
       "    </tr>\n",
       "    <tr>\n",
       "      <td>0</td>\n",
       "      <td>30</td>\n",
       "      <td>0.756112</td>\n",
       "      <td>0.715082</td>\n",
       "      <td>0.707211</td>\n",
       "      <td>0.715455</td>\n",
       "      <td>154175.0</td>\n",
       "      <td>52583.0</td>\n",
       "      <td>215605.0</td>\n",
       "      <td>57639.0</td>\n",
       "      <td>23588.0</td>\n",
       "      <td>80563.0</td>\n",
       "      <td>0.528777</td>\n",
       "      <td>0.669504</td>\n",
       "    </tr>\n",
       "    <tr>\n",
       "      <td>0</td>\n",
       "      <td>40</td>\n",
       "      <td>0.764694</td>\n",
       "      <td>0.720040</td>\n",
       "      <td>0.683358</td>\n",
       "      <td>0.691374</td>\n",
       "      <td>155430.0</td>\n",
       "      <td>50794.0</td>\n",
       "      <td>215863.0</td>\n",
       "      <td>55545.0</td>\n",
       "      <td>25439.0</td>\n",
       "      <td>80340.0</td>\n",
       "      <td>0.519701</td>\n",
       "      <td>0.695276</td>\n",
       "    </tr>\n",
       "    <tr>\n",
       "      <td>0</td>\n",
       "      <td>50</td>\n",
       "      <td>0.753288</td>\n",
       "      <td>0.710419</td>\n",
       "      <td>0.732093</td>\n",
       "      <td>0.635398</td>\n",
       "      <td>156148.0</td>\n",
       "      <td>54227.0</td>\n",
       "      <td>219797.0</td>\n",
       "      <td>48559.0</td>\n",
       "      <td>20474.0</td>\n",
       "      <td>76423.0</td>\n",
       "      <td>0.536976</td>\n",
       "      <td>0.623752</td>\n",
       "    </tr>\n",
       "  </tbody>\n",
       "</table>\n",
       "</div>"
      ],
      "text/plain": [
       "  seed  train_rsquared_1  train_rsquared_2  validation_rsquared_1  \\\n",
       "0  300          0.763522          0.721794               0.695598   \n",
       "0   20          0.757149          0.715091               0.715326   \n",
       "0   30          0.756112          0.715082               0.707211   \n",
       "0   40          0.764694          0.720040               0.683358   \n",
       "0   50          0.753288          0.710419               0.732093   \n",
       "\n",
       "   validation_rsquared_2  train_ESS  train_RSS  train_TSS  validation_ESS  \\\n",
       "0               0.669562   153520.0    50297.0   212693.0         55879.0   \n",
       "0               0.637089   157155.0    53371.0   219769.0         48690.0   \n",
       "0               0.715455   154175.0    52583.0   215605.0         57639.0   \n",
       "0               0.691374   155430.0    50794.0   215863.0         55545.0   \n",
       "0               0.635398   156148.0    54227.0   219797.0         48559.0   \n",
       "\n",
       "   validation_RSS  validation_TSS  train_RMSE  validation_RMSE  \n",
       "0         25404.0         83457.0    0.517154         0.694804  \n",
       "0         21757.0         76426.0    0.532723         0.642989  \n",
       "0         23588.0         80563.0    0.528777         0.669504  \n",
       "0         25439.0         80340.0    0.519701         0.695276  \n",
       "0         20474.0         76423.0    0.536976         0.623752  "
      ]
     },
     "execution_count": 28,
     "metadata": {},
     "output_type": "execute_result"
    }
   ],
   "source": [
    "# 여기서 변수 변경해가면서 검증해보세요\n",
    "var_total = ['scale_ride6','scale_ride7','scale_ride8','scale_ride9', 'scale_ride10','scale_ride11',\n",
    "       'scale_off6','scale_off7','scale_off8','scale_off9','scale_off10','scale_off11',\n",
    "       'scale_temperature','scale_precipitation','scale_bus_interval',\n",
    "       'scale_ride67','scale_ride89','scale_ride1011','scale_off67','scale_off89', 'scale_off1011',\n",
    "        'scale_ride_sum','scale_off_sum','scale_bus_route_id_sum','scale_bus_route_id_all_sum']\n",
    "\n",
    "# 'scale_ride67','scale_ride89','scale_ride1011','scale_off67','scale_off89', 'scale_off1011' \n",
    "# 는 2시간 더한 컬럼입니다.\n",
    "\n",
    "# 검증에 사용할 실수 변수를 넣으세요\n",
    "var = ['scale_temperature','scale_precipitation','scale_bus_interval',\n",
    "       'scale_ride_sum','scale_off_sum','scale_bus_route_id_sum','scale_bus_route_id_all_sum',\n",
    "       'scale_ride67','scale_ride89','scale_ride1011','scale_off67','scale_off89', 'scale_off1011']\n",
    "# 'scale_ride6','scale_ride7','scale_ride8','scale_ride9', 'scale_ride10','scale_ride11',\n",
    "#        'scale_off6','scale_off7','scale_off8','scale_off9','scale_off10','scale_off11',\n",
    "\n",
    "# 검증에 사용할 카테고리 변수를 넣으세요\n",
    "cate = ['bus_route_id','in_','out', 'weekend', 'weekday', 'holiday', 'typhoon'] # ,\n",
    "\n",
    "seeds = [300, 20, 30, 40, 50] # 랜덤시드를 주어서 Kfold한 효과를 가져옴\n",
    "test_size = 0.3 #변경해도 상관은 없는데 그냥 0.3로 하는게.. 그래야 7.5:2.5 정도 나옵니다.\n",
    "rsquared_df,models = validations(dataframe_1000, seeds, test_size)\n",
    "rsquared_df"
   ]
  }
 ],
 "metadata": {
  "kernelspec": {
   "display_name": "Python 3",
   "language": "python",
   "name": "python3"
  },
  "language_info": {
   "codemirror_mode": {
    "name": "ipython",
    "version": 3
   },
   "file_extension": ".py",
   "mimetype": "text/x-python",
   "name": "python",
   "nbconvert_exporter": "python",
   "pygments_lexer": "ipython3",
   "version": "3.7.4"
  }
 },
 "nbformat": 4,
 "nbformat_minor": 4
}
